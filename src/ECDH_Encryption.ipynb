{
 "cells": [
  {
   "cell_type": "code",
   "execution_count": 2,
   "id": "bd805835-c8bb-47f4-8246-95019689894d",
   "metadata": {},
   "outputs": [],
   "source": [
    "import json\n",
    "from sage.all import GF, EllipticCurve, randint\n",
    "\n",
    "# 1. Cargar resultados serializados\n",
    "with open('results.json', 'r') as f:\n",
    "    serializable = json.load(f)\n",
    "\n",
    "# 2. Reconstruir curvas y generadores\n",
    "curves = {}\n",
    "for k_str, v in serializable.items():\n",
    "    k = int(k_str)\n",
    "    p = v['p']\n",
    "    a = v['a']\n",
    "    b = v['b']\n",
    "    G_xy = tuple(v['G_xy'])\n",
    "    F = GF(p)\n",
    "    E = EllipticCurve(F, [a, b])\n",
    "    G = E(G_xy)              # punto generador\n",
    "    curves[k] = (E, G)"
   ]
  },
  {
   "cell_type": "code",
   "execution_count": 6,
   "id": "35dbf6e0-49f4-4f86-8f8b-42aa9927154e",
   "metadata": {},
   "outputs": [
    {
     "name": "stdout",
     "output_type": "stream",
     "text": [
      "\n",
      "=== Curve 32-bit ===\n",
      "  Alice priv:      1191513438\n",
      "  Bob   priv:      988230802\n",
      "  Shared secret:   (1109668649 : 67188373 : 1)\n",
      "\n",
      "=== Curve 40-bit ===\n",
      "  Alice priv:      447432208193\n",
      "  Bob   priv:      337403775726\n",
      "  Shared secret:   (253590789068 : 100866656176 : 1)\n",
      "\n",
      "=== Curve 48-bit ===\n",
      "  Alice priv:      46720637724307\n",
      "  Bob   priv:      174485073547161\n",
      "  Shared secret:   (146209193517484 : 133188610815671 : 1)\n",
      "\n",
      "ECDH data saved to 'ecdh_results.json'\n"
     ]
    }
   ],
   "source": [
    "# 2. Ejecutar ECDH para cada curva y recopilar datos\n",
    "ecdh_data = []\n",
    "for k, (E, G) in curves.items():\n",
    "    n = E.cardinality()\n",
    "\n",
    "    # Claves privadas\n",
    "    alice_priv = randint(1, n-1)\n",
    "    bob_priv   = randint(1, n-1)\n",
    "\n",
    "    # Claves públicas\n",
    "    alice_pub = alice_priv * G\n",
    "    bob_pub   = bob_priv   * G\n",
    "\n",
    "    # Secreto compartido\n",
    "    alice_secret = alice_priv * bob_pub\n",
    "    bob_secret   = bob_priv   * alice_pub\n",
    "    assert alice_secret == bob_secret\n",
    "\n",
    "    # Mostrar en pantalla\n",
    "    print(f\"\\n=== Curve {k}-bit ===\")\n",
    "    print(f\"  Alice priv:      {alice_priv}\")\n",
    "    print(f\"  Bob   priv:      {bob_priv}\")\n",
    "    print(f\"  Shared secret:   {alice_secret}\")\n",
    "\n",
    "    # Guardar en estructura serializable\n",
    "    ecdh_data.append({\n",
    "        'bit_size':       k,\n",
    "        'alice_priv':     int(alice_priv),\n",
    "        'bob_priv':       int(bob_priv),\n",
    "        'shared_secret':  [int(x_s), int(y_s)]\n",
    "    })\n",
    "\n",
    "# 3. Guardar todos los resultados en un archivo JSON\n",
    "with open('ecdh_results.json', 'w') as f:\n",
    "    json.dump(ecdh_data, f, indent=2)\n",
    "\n",
    "print(\"\\nECDH data saved to 'ecdh_results.json'\")"
   ]
  },
  {
   "cell_type": "code",
   "execution_count": 8,
   "id": "a37c5566-c12f-43c7-9b56-d7a3a3d1891c",
   "metadata": {},
   "outputs": [
    {
     "name": "stdout",
     "output_type": "stream",
     "text": [
      "32-bit curve → AES key: 0111409ecbb111550f23de3b1eec810ede39d75f03710e29296dbb03396c7cbe\n",
      "40-bit curve → AES key: 0111409ecbb111550f23de3b1eec810ede39d75f03710e29296dbb03396c7cbe\n",
      "48-bit curve → AES key: 0111409ecbb111550f23de3b1eec810ede39d75f03710e29296dbb03396c7cbe\n",
      "\n",
      "AES keys saved to 'derived_keys.json'\n"
     ]
    }
   ],
   "source": [
    "import json\n",
    "import hashlib\n",
    "\n",
    "def derive_aes_key(shared_secret: int) -> bytes:\n",
    "    \"\"\"\n",
    "    Derive a 256-bit AES key from the ECDH shared secret integer\n",
    "    by hashing it with SHA-256.\n",
    "    \"\"\"\n",
    "    # Ensure it's a Python int\n",
    "    if isinstance(shared_secret, list):\n",
    "        # If it's a list [x,y], take x (or combine as needed)\n",
    "        shared_secret = shared_secret[0]\n",
    "    # Convert secret to big-endian bytes (at least 1 byte)\n",
    "    length = max(1, (shared_secret.bit_length() + 7) // 8)\n",
    "    b = shared_secret.to_bytes(length, 'big')\n",
    "    # Derive 32-byte key\n",
    "    return hashlib.sha256(b).digest()\n",
    "\n",
    "# 1. Leer resultados ECDH\n",
    "with open('ecdh_results.json', 'r') as f:\n",
    "    ecdh_data = json.load(f)\n",
    "\n",
    "# 2. Derivar AES key para cada curva\n",
    "derived = []\n",
    "for entry in ecdh_data:\n",
    "    k = entry['bit_size']\n",
    "    shared = entry['shared_secret']\n",
    "    key = derive_aes_key(shared)\n",
    "    derived.append({\n",
    "        'bit_size':      k,\n",
    "        'alice_priv':    entry['alice_priv'],\n",
    "        'bob_priv':      entry['bob_priv'],\n",
    "        'shared_secret': shared,\n",
    "        'aes_key_hex':   key.hex()\n",
    "    })\n",
    "    print(f\"{k}-bit curve → AES key: {key.hex()}\")\n",
    "\n",
    "# 3. Guardar claves derivadas\n",
    "with open('derived_keys.json', 'w') as f:\n",
    "    json.dump(derived, f, indent=2)\n",
    "\n",
    "print(\"\\nAES keys saved to 'derived_keys.json'\")\n"
   ]
  },
  {
   "cell_type": "code",
   "execution_count": 21,
   "id": "4608af16-5ab7-4175-8c6b-dd58c972a282",
   "metadata": {},
   "outputs": [
    {
     "name": "stdout",
     "output_type": "stream",
     "text": [
      "IV (Base64):         89PuzxknoQXGUEHByJ9wlg==\n",
      "Ciphertext (Base64): TUQzcBuCTpRmYzX3ZKOax3+eUnN6Knuv8xXeLZ9vDuoYwLtUgFK7Fp1jzUt80I8u/NMhnFcLTMEyS7F2ue/ODqLSwlfV2xC/rbG9hHOdO0c/sHi0RWI8nSS17VaTLPvmv74IVzC+zQR659R03363jg==\n"
     ]
    }
   ],
   "source": [
    "import json\n",
    "import base64\n",
    "from Crypto.Cipher import AES\n",
    "from Crypto.Util.Padding import pad\n",
    "from Crypto.Random import get_random_bytes\n",
    "\n",
    "# 1. Leer la clave derivada para la curva de 32 bits\n",
    "with open('derived_keys.json', 'r') as f:\n",
    "    derived = json.load(f)\n",
    "\n",
    "# Buscar la entrada de 32 bits\n",
    "key_hex = next(entry['aes_key_hex'] for entry in derived if entry['bit_size'] == 32)\n",
    "key = bytes.fromhex(key_hex)\n",
    "\n",
    "# 2. Mensaje a cifrar: cita histórica de Carl Friedrich Gauss\n",
    "# Cita: “Mathematics is the queen of the sciences and number theory is the queen of mathematics.”\n",
    "# Fuente: Carl Friedrich Gauss, Disquisitiones Arithmeticae (1801)\n",
    "plaintext = (\n",
    "    \"Mathematics is the queen of the sciences and number theory is the queen of mathematics. Carl Friedrich Gauss\"\n",
    ").encode('utf-8')\n",
    "\n",
    "# 3. Cifrar con AES-256-CBC y PKCS#7 padding\n",
    "iv = get_random_bytes(16)\n",
    "cipher = AES.new(key, AES.MODE_CBC, iv)\n",
    "ciphertext = cipher.encrypt(pad(plaintext, AES.block_size))\n",
    "\n",
    "# 4. Mostrar resultados en Base64\n",
    "print(\"IV (Base64):        \", base64.b64encode(iv).decode('utf-8'))\n",
    "print(\"Ciphertext (Base64):\", base64.b64encode(ciphertext).decode('utf-8'))\n",
    "\n",
    "# 5. Guardar en archivo\n",
    "with open('cipher_quote_gauss.txt', 'w') as f:\n",
    "    f.write(f\"IV:{base64.b64encode(iv).decode()}\\n\")\n",
    "    f.write(f\"CIPHER:{base64.b64encode(ciphertext).decode()}\\n\")\n"
   ]
  },
  {
   "cell_type": "code",
   "execution_count": 24,
   "id": "c46563c0-c211-44e8-b7eb-259ee8a346de",
   "metadata": {},
   "outputs": [
    {
     "name": "stdout",
     "output_type": "stream",
     "text": [
      "Decrypted text: Mathematics is the queen of the sciences and number theory is the queen of mathematics. Carl Friedrich Gauss\u0004\u0004\u0004\u0004\n"
     ]
    }
   ],
   "source": [
    "from Crypto.Util.Padding import unpad\n",
    "ciphertext = base64.b64decode(\"TUQzcBuCTpRmYzX3ZKOax3+eUnN6Knuv8xXeLZ9vDuoYwLtUgFK7Fp1jzUt80I8u/NMhnFcLTMEyS7F2ue/ODqLSwlfV2xC/rbG9hHOdO0c/sHi0RWI8nSS17VaTLPvmv74IVzC+zQR659R03363jg==\")\n",
    "\n",
    "# 3. Decrypt\n",
    "cipher = AES.new(key, AES.MODE_CBC, iv)\n",
    "decrypted = cipher.decrypt(ciphertext)\n",
    "\n",
    "# 4. Output the result\n",
    "print(\"Decrypted text:\", decrypted.decode('utf-8'))\n"
   ]
  },
  {
   "cell_type": "code",
   "execution_count": null,
   "id": "bbd1359b-7710-4c03-b573-38b966eab2c0",
   "metadata": {},
   "outputs": [],
   "source": []
  }
 ],
 "metadata": {
  "kernelspec": {
   "display_name": "SageMath 10.6",
   "language": "sage",
   "name": "sagemath"
  },
  "language_info": {
   "codemirror_mode": {
    "name": "ipython",
    "version": 3
   },
   "file_extension": ".py",
   "mimetype": "text/x-python",
   "name": "python",
   "nbconvert_exporter": "python",
   "pygments_lexer": "ipython3",
   "version": "3.11.12"
  }
 },
 "nbformat": 4,
 "nbformat_minor": 5
}
