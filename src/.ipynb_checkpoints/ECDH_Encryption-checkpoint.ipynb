{
 "cells": [
  {
   "cell_type": "code",
   "execution_count": 2,
   "id": "bd805835-c8bb-47f4-8246-95019689894d",
   "metadata": {},
   "outputs": [],
   "source": [
    "import json\n",
    "from sage.all import GF, EllipticCurve, randint\n",
    "\n",
    "# 1. Cargar resultados serializados\n",
    "with open('results.json', 'r') as f:\n",
    "    serializable = json.load(f)\n",
    "\n",
    "# 2. Reconstruir curvas y generadores\n",
    "curves = {}\n",
    "for k_str, v in serializable.items():\n",
    "    k = int(k_str)\n",
    "    p = v['p']\n",
    "    a = v['a']\n",
    "    b = v['b']\n",
    "    G_xy = tuple(v['G_xy'])\n",
    "    F = GF(p)\n",
    "    E = EllipticCurve(F, [a, b])\n",
    "    G = E(G_xy)              # punto generador\n",
    "    curves[k] = (E, G)"
   ]
  },
  {
   "cell_type": "code",
   "execution_count": 3,
   "id": "35dbf6e0-49f4-4f86-8f8b-42aa9927154e",
   "metadata": {},
   "outputs": [
    {
     "name": "stdout",
     "output_type": "stream",
     "text": [
      "\n",
      "=== Curve 32-bit ===\n",
      "  Alice priv:      2636809957\n",
      "  Bob   priv:      1357523994\n",
      "  Shared secret:   (1711806399 : 295079198 : 1)\n",
      "\n",
      "=== Curve 40-bit ===\n",
      "  Alice priv:      694199910888\n",
      "  Bob   priv:      20568877997\n",
      "  Shared secret:   (48588735835 : 594999155733 : 1)\n",
      "\n",
      "=== Curve 48-bit ===\n",
      "  Alice priv:      67768488176227\n",
      "  Bob   priv:      10476058872133\n",
      "  Shared secret:   (166902552612145 : 16130158932564 : 1)\n",
      "\n",
      "ECDH data saved to 'ecdh_results.json'\n"
     ]
    }
   ],
   "source": [
    "# 2. Ejecutar ECDH para cada curva y recopilar datos\n",
    "ecdh_data = []\n",
    "for k, (E, G) in curves.items():\n",
    "    n = E.cardinality()\n",
    "\n",
    "    # Claves privadas\n",
    "    alice_priv = randint(1, n-1)\n",
    "    bob_priv   = randint(1, n-1)\n",
    "\n",
    "    # Claves públicas\n",
    "    alice_pub = alice_priv * G\n",
    "    bob_pub   = bob_priv   * G\n",
    "\n",
    "    # Secreto compartido\n",
    "    alice_secret = alice_priv * bob_pub\n",
    "    bob_secret   = bob_priv   * alice_pub\n",
    "    assert alice_secret == bob_secret\n",
    "\n",
    "    # Mostrar en pantalla\n",
    "    print(f\"\\n=== Curve {k}-bit ===\")\n",
    "    print(f\"  Alice priv:      {alice_priv}\")\n",
    "    print(f\"  Bob   priv:      {bob_priv}\")\n",
    "    print(f\"  Shared secret:   {alice_secret}\")\n",
    "\n",
    "    # Guardar en estructura serializable\n",
    "    ecdh_data.append({\n",
    "        'bit_size':       k,\n",
    "        'alice_priv':     int(alice_priv),\n",
    "        'bob_priv':       int(bob_priv),\n",
    "        'shared_secret':  int(alice_secret)\n",
    "    })\n",
    "\n",
    "# 3. Guardar todos los resultados en un archivo JSON\n",
    "with open('ecdh_results.json', 'w') as f:\n",
    "    json.dump(ecdh_data, f, indent=2)\n",
    "\n",
    "print(\"\\nECDH data saved to 'ecdh_results.json'\")"
   ]
  }
 ],
 "metadata": {
  "kernelspec": {
   "display_name": "SageMath 10.6",
   "language": "sage",
   "name": "sagemath"
  },
  "language_info": {
   "codemirror_mode": {
    "name": "ipython",
    "version": 3
   },
   "file_extension": ".py",
   "mimetype": "text/x-python",
   "name": "python",
   "nbconvert_exporter": "python",
   "pygments_lexer": "ipython3",
   "version": "3.11.12"
  }
 },
 "nbformat": 4,
 "nbformat_minor": 5
}
