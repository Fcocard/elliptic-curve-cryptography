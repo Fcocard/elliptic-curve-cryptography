{
 "cells": [
  {
   "cell_type": "code",
   "execution_count": 1,
   "id": "ad7c41a6-e3fe-4e32-a691-9a74919f4e71",
   "metadata": {},
   "outputs": [
    {
     "name": "stdout",
     "output_type": "stream",
     "text": [
      "Searching for a 128-bit prime-order curve …\n",
      "[SEA runs: 50, candidates tested: 50]\n",
      "✔ Found curve after SEA runs: 63, candidates tested: 63\n",
      "Generation complete in 12.89 s\n",
      "Candidates tested: 63\n",
      "SEA executions: 63\n",
      "p  = 285969967976617499852397384710772819859\n",
      "a  = 162473434835985830153527433793718506495\n",
      "b  = 180288992616607414104086326149539666778\n",
      "#E = 285969967976617499836460964450890626241\n",
      "G  = (82055903321077010240309441256896273768, 232203623477370466636698452880336490254)\n",
      "Loaded curves:\n",
      "dict_keys(['32', '40', '48'])\n"
     ]
    }
   ],
   "source": [
    "# ────────────────────────────────\n",
    "# Step 1 – read the curve parameters\n",
    "# ────────────────────────────────\n",
    "import json, pprint\n",
    "\n",
    "with open(\"results.json\", \"r\") as f:\n",
    "    CURVES = json.load(f)             # dict keyed by bit-size (strings)\n",
    "\n",
    "load('generate_curve.sage')\n",
    "print(\"Loaded curves:\")\n",
    "pprint.pprint(CURVES.keys())"
   ]
  },
  {
   "cell_type": "code",
   "execution_count": 2,
   "id": "ab57e97f-fdac-42a6-994f-6aa127a6a9ee",
   "metadata": {},
   "outputs": [
    {
     "name": "stdout",
     "output_type": "stream",
     "text": [
      "Bit-sizes with key-material: [32, 40, 48]\n"
     ]
    }
   ],
   "source": [
    "# ────────────────────────────────\n",
    "# Step 2 – read the private keys\n",
    "# ────────────────────────────────\n",
    "with open(\"ecdh_results.json\", \"r\") as f:\n",
    "    KEY_DATA = json.load(f)           # list of dicts\n",
    "\n",
    "PRIV = {entry[\"bit_size\"]: entry for entry in KEY_DATA}\n",
    "\n",
    "print(\"Bit-sizes with key-material:\", sorted(PRIV))\n"
   ]
  },
  {
   "cell_type": "code",
   "execution_count": 3,
   "id": "85f89e58-5afd-4389-960b-463d81f4e072",
   "metadata": {},
   "outputs": [
    {
     "name": "stdout",
     "output_type": "stream",
     "text": [
      "✓ Public keys computed.\n"
     ]
    }
   ],
   "source": [
    "# ───────────────────────────────────────────────────────\n",
    "# Step 3 – build curves & generator, compute public keys\n",
    "#                 + verify shared secrets\n",
    "# ───────────────────────────────────────────────────────\n",
    "from sage.all import EllipticCurve, GF\n",
    "\n",
    "PUBLIC   = {}        # keeps E, G, A_pub, B_pub per bit-size\n",
    "\n",
    "for bits, params in CURVES.items():\n",
    "    b = int(bits)                       # Sage likes ints for dict keys\n",
    "\n",
    "    # Curve & generator\n",
    "    p, a, b_coef, n = params[\"p\"], params[\"a\"], params[\"b\"], params[\"n\"]\n",
    "    Gx, Gy          = params[\"G_xy\"]\n",
    "    E  = EllipticCurve(GF(p), [a, b_coef])\n",
    "    G  = E(Gx, Gy)\n",
    "\n",
    "    # Private keys\n",
    "    kA = PRIV[b][\"alice_priv\"]\n",
    "    kB = PRIV[b][\"bob_priv\"]\n",
    "\n",
    "    # Public keys\n",
    "    A_pub = kA * G\n",
    "    B_pub = kB * G\n",
    "\n",
    "    PUBLIC[b] = dict(E=E, G=G, A=A_pub, B=B_pub)\n",
    "\n",
    "print(\"✓ Public keys computed.\")\n"
   ]
  },
  {
   "cell_type": "code",
   "execution_count": 5,
   "id": "64961fe7-b74d-420b-b85a-e67e28214483",
   "metadata": {},
   "outputs": [
    {
     "name": "stdout",
     "output_type": "stream",
     "text": [
      "→ Generating 32-bit prime-order curve…\n",
      "✔ Found curve after SEA runs: 19, candidates tested: 19\n",
      "→ Generating 34-bit prime-order curve…\n",
      "✔ Found curve after SEA runs: 28, candidates tested: 28\n",
      "→ Generating 36-bit prime-order curve…\n",
      "✔ Found curve after SEA runs: 44, candidates tested: 44\n",
      "→ Generating 38-bit prime-order curve…\n",
      "[SEA runs: 50, candidates tested: 50]\n",
      "✔ Found curve after SEA runs: 85, candidates tested: 85\n",
      "→ Generating 40-bit prime-order curve…\n",
      "✔ Found curve after SEA runs: 29, candidates tested: 29\n",
      "→ Generating 42-bit prime-order curve…\n",
      "[SEA runs: 50, candidates tested: 50]\n",
      "[SEA runs: 100, candidates tested: 100]\n",
      "✔ Found curve after SEA runs: 144, candidates tested: 144\n",
      "→ Generating 44-bit prime-order curve…\n",
      "✔ Found curve after SEA runs: 36, candidates tested: 36\n",
      "✓ Extra curves generated and ready for benchmarking: [32, 34, 36, 38, 40, 42, 44]\n"
     ]
    }
   ],
   "source": [
    "# ──────────────────────────────────────────────────────────\n",
    "# Step 3.5 – generate fresh prime-order curves (32–44 bits)\n",
    "#             and set up key-material for benchmarking\n",
    "#             (uses generate_prime_order_curve)\n",
    "# ──────────────────────────────────────────────────────────\n",
    "from sage.all import randint\n",
    "\n",
    "EXTRA_BITS = [32, 34, 36, 38, 40, 42, 44]\n",
    "\n",
    "for bits in EXTRA_BITS:\n",
    "    key = str(bits)\n",
    "    print(f\"→ Generating {bits}-bit prime-order curve…\")\n",
    "    # ➊ Call the generator\n",
    "    E, G, candidates, sea_runs, gen_time = generate_prime_order_curve(bits)\n",
    "    # ➋ Extract parameters\n",
    "    p = E.base_field().order()\n",
    "    a = E.a4()\n",
    "    b = E.a6()\n",
    "    n = E.cardinality()\n",
    "    Gx, Gy = G.xy()\n",
    "    # ➌ Store in CURVES dict (to mirror results.json structure)\n",
    "    CURVES[key] = {\n",
    "        \"p\": int(p),\n",
    "        \"a\": int(a),\n",
    "        \"b\": int(b),\n",
    "        \"n\": int(n),\n",
    "        \"G_xy\": [int(Gx), int(Gy)],\n",
    "        \"candidates\": candidates,\n",
    "        \"sea_runs\": sea_runs,\n",
    "        \"gen_time\": gen_time\n",
    "    }\n",
    "    # ➍ Generate random key pairs for benchmarking\n",
    "    kA = randint(1, n - 1)\n",
    "    kB = randint(1, n - 1)\n",
    "    PRIV[bits] = {\n",
    "        \"bit_size\":    bits,\n",
    "        \"alice_priv\":  int(kA),\n",
    "        \"bob_priv\":    int(kB),\n",
    "        \"shared_secret\": (kA * kB * G).xy()\n",
    "    }\n",
    "    # ➎ Prepare PUBLIC dict for Step 4\n",
    "    PUBLIC[bits] = {\n",
    "        \"E\": E,\n",
    "        \"G\": G,\n",
    "        \"A\": kA * G,\n",
    "        \"B\": kB * G\n",
    "    }\n",
    "\n",
    "print(\"✓ Extra curves generated and ready for benchmarking:\", EXTRA_BITS)\n"
   ]
  },
  {
   "cell_type": "code",
   "execution_count": 6,
   "id": "6ea8fdba-50a2-4b6d-8a3d-a3387c93cf4a",
   "metadata": {},
   "outputs": [
    {
     "name": "stdout",
     "output_type": "stream",
     "text": [
      "32-bit │ ρ: 5.2319s   BSGS: 3.1047s\n",
      "34-bit │ ρ: 1.9689s   BSGS: 4.4830s\n",
      "36-bit │ ρ: 10.2339s   BSGS: 10.8325s\n",
      "38-bit │ ρ: 32.2866s   BSGS: 17.9648s\n",
      "40-bit │ ρ: 68.7362s   BSGS: 45.7544s\n",
      "42-bit │ ρ: 92.5935s   BSGS: 54.5118s\n",
      "44-bit │ ρ: 209.3457s   BSGS: 135.5784s\n",
      "\n",
      "✓ Secret keys recovered and timings recorded for newly generated curves.\n"
     ]
    }
   ],
   "source": [
    "# ──────────────────────────────────────────────────────────\n",
    "# Step 4 – solve ECDLP on newly generated curves only\n",
    "# ──────────────────────────────────────────────────────────\n",
    "from sage.groups.generic import discrete_log\n",
    "import time\n",
    "\n",
    "DL_TIMES = {}\n",
    "\n",
    "# Only benchmark the curves we generated in Step 3.5\n",
    "for bits in EXTRA_BITS:\n",
    "    if bits not in PUBLIC:\n",
    "        continue\n",
    "\n",
    "    E, G, B = PUBLIC[bits][\"E\"], PUBLIC[bits][\"G\"], PUBLIC[bits][\"B\"]\n",
    "    n       = CURVES[str(bits)][\"n\"]\n",
    "\n",
    "    # Pollard’s ρ\n",
    "    t0     = time.time()\n",
    "    k_rho  = discrete_log(B, G, n, operation='+', algorithm='rho')\n",
    "    rho_t  = time.time() - t0\n",
    "\n",
    "    # Baby-Step Giant-Step\n",
    "    t0      = time.time()\n",
    "    k_bsgs  = discrete_log(B, G, n, operation='+', algorithm='bsgs')\n",
    "    bsgs_t  = time.time() - t0\n",
    "\n",
    "    # Record and display\n",
    "    DL_TIMES[bits] = {\"rho\": rho_t, \"bsgs\": bsgs_t}\n",
    "    print(f\"{bits}-bit │ ρ: {rho_t:.4f}s   BSGS: {bsgs_t:.4f}s\")\n",
    "\n",
    "print(\"\\n✓ Secret keys recovered and timings recorded for newly generated curves.\")\n",
    "\n"
   ]
  },
  {
   "cell_type": "code",
   "execution_count": 8,
   "id": "b8cb4f02-6b38-47d0-963f-ebdc0c9ca933",
   "metadata": {},
   "outputs": [
    {
     "data": {
      "image/png": "[encoded data removed]",
      "text/plain": [
       "<Figure size 600x400 with 1 Axes>"
      ]
     },
     "metadata": {},
     "output_type": "display_data"
    }
   ],
   "source": [
    "# ──────────────────────────────────────────────────────────\n",
    "# Step 5 – plot benchmarks for newly generated curves only\n",
    "# ──────────────────────────────────────────────────────────\n",
    "import matplotlib.pyplot as plt\n",
    "\n",
    "# Use only the bit sizes we generated\n",
    "bits = [b for b in EXTRA_BITS if b in DL_TIMES]\n",
    "bits.sort()\n",
    "\n",
    "rho_times  = [DL_TIMES[b][\"rho\"]  for b in bits]\n",
    "bsgs_times = [DL_TIMES[b][\"bsgs\"] for b in bits]\n",
    "\n",
    "plt.figure(figsize=(6,4))\n",
    "plt.plot(bits, rho_times,  \"o-\", label=\"Pollard’s ρ\")\n",
    "plt.plot(bits, bsgs_times, \"s-\", label=\"Baby-Step Giant-Step\")\n",
    "plt.xlabel(\"Curve size (bits)\")\n",
    "plt.ylabel(\"Time (seconds)\")\n",
    "plt.title(\"ECDLP solve time on generated curves\")\n",
    "plt.grid(True)\n",
    "plt.legend()\n",
    "plt.tight_layout()\n",
    "plt.savefig(\"ecdlp_generated_benchmarks.png\", dpi=300)\n",
    "plt.show()\n"
   ]
  },
  {
   "cell_type": "code",
   "execution_count": null,
   "id": "01f6c38b-867b-4a73-bc48-2d0a806737be",
   "metadata": {},
   "outputs": [],
   "source": []
  }
 ],
 "metadata": {
  "kernelspec": {
   "display_name": "SageMath 10.6",
   "language": "sage",
   "name": "sagemath"
  },
  "language_info": {
   "codemirror_mode": {
    "name": "ipython",
    "version": 3
   },
   "file_extension": ".py",
   "mimetype": "text/x-python",
   "name": "python",
   "nbconvert_exporter": "python",
   "pygments_lexer": "ipython3",
   "version": "3.11.12"
  }
 },
 "nbformat": 4,
 "nbformat_minor": 5
}
