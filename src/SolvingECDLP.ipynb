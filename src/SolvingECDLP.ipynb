{
 "cells": [
  {
   "cell_type": "code",
   "execution_count": 1,
   "id": "27e66e63-408e-408a-a872-bb4957e40144",
   "metadata": {},
   "outputs": [
    {
     "name": "stdout",
     "output_type": "stream",
     "text": [
      "Curva 32-bits: y^2 = x^3 + (51016516)x + (2185363664) over GF(2786035199)\n",
      "Generador G = (672793040 : 2269103569 : 1)\n",
      "\n",
      "=== ECDH en curva de 32 bits ===\n",
      "Alice private key: 1191513438\n",
      "Bob   private key: 988230802\n",
      "Alice public key:  (1111960910 : 654118817 : 1)\n",
      "Bob   public key:  (670139701 : 179721383 : 1)\n"
     ]
    }
   ],
   "source": [
    "import json\n",
    "from sage.all import GF, EllipticCurve\n",
    "\n",
    "# 1. Cargar los parámetros de curvas\n",
    "with open('results.json', 'r') as f:\n",
    "    results = json.load(f)\n",
    "\n",
    "# Extraer el entry de 32 bits\n",
    "res32 = results['32'] if '32' in results else results[32]\n",
    "p   = int(res32['p'])\n",
    "a   = int(res32['a'])\n",
    "b   = int(res32['b'])\n",
    "G_xy = tuple(res32['G_xy'])\n",
    "\n",
    "# Reconstruir el campo, la curva y el generador\n",
    "F = GF(p)\n",
    "E = EllipticCurve(F, [a, b])\n",
    "G = E(G_xy)\n",
    "\n",
    "print(f\"Curva 32-bits: y^2 = x^3 + ({a})x + ({b}) over GF({p})\")\n",
    "print(f\"Generador G = {G}\")\n",
    "\n",
    "# 2. Cargar los resultados ECDH\n",
    "with open('ecdh_results.json', 'r') as f:\n",
    "    ecdh_data = json.load(f)\n",
    "\n",
    "# Buscar la entrada de 32 bits\n",
    "entry = next(e for e in ecdh_data if int(e['bit_size']) == 32)\n",
    "alice_priv = int(entry['alice_priv'])\n",
    "bob_priv   = int(entry['bob_priv'])\n",
    "\n",
    "# 3. Calcular las claves públicas\n",
    "alice_pub = alice_priv * G\n",
    "bob_pub   = bob_priv   * G\n",
    "\n",
    "# 4. Mostrar por pantalla\n",
    "print(\"\\n=== ECDH en curva de 32 bits ===\")\n",
    "print(f\"Alice private key: {alice_priv}\")\n",
    "print(f\"Bob   private key: {bob_priv}\")\n",
    "print(f\"Alice public key:  {alice_pub}\")\n",
    "print(f\"Bob   public key:  {bob_pub}\")\n"
   ]
  },
  {
   "cell_type": "code",
   "execution_count": 3,
   "id": "ea757b52-3168-44de-bcac-3debc3dcfa94",
   "metadata": {},
   "outputs": [
    {
     "name": "stdout",
     "output_type": "stream",
     "text": [
      "\n",
      "=== Recuperación de privadas con discrete_log ===\n",
      "Encontrado alice_priv = 1191513438  (original = 1191513438)\n",
      "Encontrado bob_priv   = 988230802    (original = 988230802)\n"
     ]
    }
   ],
   "source": [
    "# 3. Resolver ECDLP usando la función integrada\n",
    "d_alice = alice_pub.log(G)\n",
    "d_bob   = bob_pub.log(G)\n",
    "\n",
    "print(\"\\n=== Recuperación de privadas con discrete_log ===\")\n",
    "print(f\"Encontrado alice_priv = {d_alice}  (original = {alice_priv})\")\n",
    "print(f\"Encontrado bob_priv   = {d_bob}    (original = {bob_priv})\")"
   ]
  },
  {
   "cell_type": "code",
   "execution_count": 18,
   "id": "690187f8-93a3-49e8-acb7-bcb37a6ca2df",
   "metadata": {},
   "outputs": [
    {
     "name": "stdout",
     "output_type": "stream",
     "text": [
      "dd3f403cdb81ef2b99f928bc4e3c327ab5f158aea2873562a67e6ec992831efc\n"
     ]
    },
    {
     "ename": "ValueError",
     "evalue": "Padding is incorrect.",
     "output_type": "error",
     "traceback": [
      "\u001b[0;31m---------------------------------------------------------------------------\u001b[0m",
      "\u001b[0;31mValueError\u001b[0m                                Traceback (most recent call last)",
      "Cell \u001b[0;32mIn[18], line 39\u001b[0m\n\u001b[1;32m     37\u001b[0m \u001b[38;5;66;03m# ————— Descifrar con AES-CBC + PKCS#7 —————\u001b[39;00m\n\u001b[1;32m     38\u001b[0m cipher    \u001b[38;5;241m=\u001b[39m AES\u001b[38;5;241m.\u001b[39mnew(aes_key, AES\u001b[38;5;241m.\u001b[39mMODE_CBC, iv)\n\u001b[0;32m---> 39\u001b[0m plaintext \u001b[38;5;241m=\u001b[39m \u001b[43munpad\u001b[49m\u001b[43m(\u001b[49m\u001b[43mcipher\u001b[49m\u001b[38;5;241;43m.\u001b[39;49m\u001b[43mdecrypt\u001b[49m\u001b[43m(\u001b[49m\u001b[43mct\u001b[49m\u001b[43m)\u001b[49m\u001b[43m,\u001b[49m\u001b[43m \u001b[49m\u001b[43mAES\u001b[49m\u001b[38;5;241;43m.\u001b[39;49m\u001b[43mblock_size\u001b[49m\u001b[43m)\u001b[49m\n\u001b[1;32m     41\u001b[0m \u001b[38;5;28mprint\u001b[39m(\u001b[38;5;124m\"\u001b[39m\u001b[38;5;124mMensaje descifrado:\u001b[39m\u001b[38;5;124m\"\u001b[39m)\n\u001b[1;32m     42\u001b[0m \u001b[38;5;28mprint\u001b[39m(plaintext\u001b[38;5;241m.\u001b[39mdecode(\u001b[38;5;124m'\u001b[39m\u001b[38;5;124mutf-8\u001b[39m\u001b[38;5;124m'\u001b[39m))\n",
      "File \u001b[0;32m~/miniforge3/envs/sage/lib/python3.11/site-packages/Crypto/Util/Padding.py:92\u001b[0m, in \u001b[0;36munpad\u001b[0;34m(padded_data, block_size, style)\u001b[0m\n\u001b[1;32m     90\u001b[0m padding_len \u001b[38;5;241m=\u001b[39m bord(padded_data[\u001b[38;5;241m-\u001b[39m\u001b[38;5;241m1\u001b[39m])\n\u001b[1;32m     91\u001b[0m \u001b[38;5;28;01mif\u001b[39;00m padding_len\u001b[38;5;241m<\u001b[39m\u001b[38;5;241m1\u001b[39m \u001b[38;5;129;01mor\u001b[39;00m padding_len\u001b[38;5;241m>\u001b[39m\u001b[38;5;28mmin\u001b[39m(block_size, pdata_len):\n\u001b[0;32m---> 92\u001b[0m     \u001b[38;5;28;01mraise\u001b[39;00m \u001b[38;5;167;01mValueError\u001b[39;00m(\u001b[38;5;124m\"\u001b[39m\u001b[38;5;124mPadding is incorrect.\u001b[39m\u001b[38;5;124m\"\u001b[39m)\n\u001b[1;32m     93\u001b[0m \u001b[38;5;28;01mif\u001b[39;00m style \u001b[38;5;241m==\u001b[39m \u001b[38;5;124m'\u001b[39m\u001b[38;5;124mpkcs7\u001b[39m\u001b[38;5;124m'\u001b[39m:\n\u001b[1;32m     94\u001b[0m     \u001b[38;5;28;01mif\u001b[39;00m padded_data[\u001b[38;5;241m-\u001b[39mpadding_len:]\u001b[38;5;241m!=\u001b[39mbchr(padding_len)\u001b[38;5;241m*\u001b[39mpadding_len:\n",
      "\u001b[0;31mValueError\u001b[0m: Padding is incorrect."
     ]
    }
   ],
   "source": [
    "from sage.all import GF, EllipticCurve\n",
    "import hashlib, base64\n",
    "from Crypto.Cipher import AES\n",
    "from Crypto.Util.Padding import unpad\n",
    "\n",
    "def derive_aes_key(shared_secret: int) -> bytes:\n",
    "    \"\"\"\n",
    "    Derive a 256-bit AES key from the ECDH shared secret integer\n",
    "    by hashing it with SHA-256.\n",
    "    \"\"\"\n",
    "    # Ensure it's a Python int\n",
    "    if isinstance(shared_secret, list):\n",
    "        # If it's a list [x,y], take x (or combine as needed)\n",
    "        shared_secret = shared_secret[0]\n",
    "    # Convert secret to big-endian bytes (at least 1 byte)\n",
    "    length = max(1, (shared_secret.bit_length() + 7) // 8)\n",
    "    b = shared_secret.to_bytes(length, 'big')\n",
    "    # Derive 32-byte key\n",
    "    return hashlib.sha256(b).digest()\n",
    "\n",
    "iv_b64 = \"89PuzxknoQXGUEHByJ9wlg==\"\n",
    "cipher_b64 = \"TUQzcBuCTpRmYzX3ZKOax3+eUnN6Knuv8xXeLZ9vDuoYwLtUgFK7Fp1jzUt80I8u/NMhnFcLTMEyS7F2ue/ODqLSwlfV2xC/rbG9hHOdO0c/sHi0RWI8nSS17VaTLPvmv74IVzC+zQR659R03363jg==\"\n",
    "\n",
    "shared_point = (alice_priv * bob_priv) * G\n",
    "shared_ints = [int(shared_point.xy()[0]), int(shared_point.xy()[1])]\n",
    "\n",
    "# ————— Derivación de clave AES-256 —————\n",
    "# Convierte entero a bytes big-endian\n",
    "aes_key = derive_aes_key(shared_int)\n",
    "# Compare with 0111409ecbb111550f23de3b1eec810ede39d75f03710e29296dbb03396c7cbe\n",
    "print(aes_key.hex())\n",
    "\n",
    "# ————— Decodificar IV y ciphertext —————\n",
    "iv = base64.b64decode(iv_b64)\n",
    "ct = base64.b64decode(cipher_b64)\n",
    "\n",
    "# ————— Descifrar con AES-CBC + PKCS#7 —————\n",
    "cipher    = AES.new(aes_key, AES.MODE_CBC, iv)\n",
    "plaintext = unpad(cipher.decrypt(ct), AES.block_size)\n",
    "\n",
    "print(\"Mensaje descifrado:\")\n",
    "print(plaintext.decode('utf-8'))"
   ]
  },
  {
   "cell_type": "code",
   "execution_count": null,
   "id": "ad7c41a6-e3fe-4e32-a691-9a74919f4e71",
   "metadata": {},
   "outputs": [],
   "source": []
  }
 ],
 "metadata": {
  "kernelspec": {
   "display_name": "SageMath 10.6",
   "language": "sage",
   "name": "sagemath"
  },
  "language_info": {
   "codemirror_mode": {
    "name": "ipython",
    "version": 3
   },
   "file_extension": ".py",
   "mimetype": "text/x-python",
   "name": "python",
   "nbconvert_exporter": "python",
   "pygments_lexer": "ipython3",
   "version": "3.11.12"
  }
 },
 "nbformat": 4,
 "nbformat_minor": 5
}
